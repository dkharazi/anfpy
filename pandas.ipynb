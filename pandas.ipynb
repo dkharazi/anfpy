{
 "cells": [
  {
   "cell_type": "markdown",
   "metadata": {},
   "source": [
    "# Table of Contents"
   ]
  },
  {
   "cell_type": "markdown",
   "metadata": {},
   "source": [
    "1. [Pandas Imports](#intro)\n",
    "2. [Introduction to Pandas Objects](#objects)\n",
    "3. [Introduction to Viewing Data](#view)\n",
    "4. [Introduction to Selecting Columns](#select)\n",
    "5. [Introduction to Data Aggregations](#aggregate)\n",
    "6. [Introduction to Merging Data Together](#merge)\n",
    "7. [Introduction to Grouping Data](#group)\n",
    "8. [Introduction to Reshaping Data](#reshape)\n",
    "9. [Additional Resources and Tutorials](#references)"
   ]
  },
  {
   "cell_type": "markdown",
   "metadata": {},
   "source": [
    "<hr />"
   ]
  },
  {
   "cell_type": "markdown",
   "metadata": {},
   "source": [
    "# 10 Minutes to Pandas <a class=\"anchor\" id=\"intro\"></a>"
   ]
  },
  {
   "cell_type": "markdown",
   "metadata": {},
   "source": [
    "This is a short introduction to pandas, geared mainly for new users. Essentially, I used [this walkthrough](https://pandas.pydata.org/docs/user_guide/10min.html) from the official Pandas site, but made a few additional comments.\n",
    "\n",
    "Customarily, we import the following packages. Obviously, we'll want to import the *pandas* package, but we'll also want to import the *numpy* package. Lots of Python packages are used together in the Python ecosystem. Meaning, within our pandas functions, we'll most likely want to call a lot of functions from the numpy package. So, we'll import it now for future references."
   ]
  },
  {
   "cell_type": "code",
   "execution_count": 1,
   "metadata": {},
   "outputs": [],
   "source": [
    "import numpy as np\n",
    "import pandas as pd"
   ]
  },
  {
   "cell_type": "markdown",
   "metadata": {},
   "source": [
    "<hr />"
   ]
  },
  {
   "cell_type": "markdown",
   "metadata": {},
   "source": [
    "# Object Creation <a class=\"anchor\" id=\"objects\"></a>"
   ]
  },
  {
   "cell_type": "markdown",
   "metadata": {},
   "source": [
    "Again, the most important object in the Pandas package is the `DataFrame`. A DataFrame is a 2-dimensional, labeled data structure with columns of potentially different types. You can think of it like a spreadsheet or SQL table. More technically, it is a combination of `Series` objects. Generally, a DataFrame is the most commonly used pandas object.\n",
    "\n",
    "At a high-level, we can think of a Series as an individual column of a DataFrame, or we can think of it as any ordinary [Python list](https://www.w3schools.com/python/python_lists.asp). Behind the scenes, *this ordinary Python list* is formatted as a Series object.\n",
    "\n",
    "More technically, a Series is a 1-dimensional, labeled array capable of holding any Python data type (integers, strings, floating point numbers, Python objects, etc.). For a more detailed explanation of the data structures offered in Pandas, please refer to [this introduction](https://pandas.pydata.org/docs/user_guide/dsintro.html) to Pandas data structures."
   ]
  },
  {
   "cell_type": "markdown",
   "metadata": {},
   "source": [
    "### Example of a `Series` Object"
   ]
  },
  {
   "cell_type": "markdown",
   "metadata": {},
   "source": [
    "For now, let's just take a look at an example of a Series object:"
   ]
  },
  {
   "cell_type": "code",
   "execution_count": 7,
   "metadata": {},
   "outputs": [
    {
     "data": {
      "text/plain": [
       "0    1\n",
       "1    3\n",
       "2    5\n",
       "3    6\n",
       "4    8\n",
       "dtype: int64"
      ]
     },
     "execution_count": 7,
     "metadata": {},
     "output_type": "execute_result"
    }
   ],
   "source": [
    "s = pd.Series([1, 3, 5, 6, 8])\n",
    "s"
   ]
  },
  {
   "cell_type": "markdown",
   "metadata": {},
   "source": [
    "Notice, a `Series` object just uses an ordinary Python list `[1,2,3,5,6,8]` as its input. So, if it helps, we can just think of it as an ordinary Python list with some cool, extra Pandas functions wrapped around it."
   ]
  },
  {
   "cell_type": "markdown",
   "metadata": {},
   "source": [
    "### Example of a `DataFrame` Object"
   ]
  },
  {
   "cell_type": "markdown",
   "metadata": {},
   "source": [
    "The most common way of creating a DataFrame is by passing a [Python dict](https://docs.python.org/3/tutorial/datastructures.html#dictionaries) containing the column names (i.e. `name` and `age`) and column values. Notice, these column values are represented as their own Python lists. Behind the scenes, Pandas will receive this `dict` and convert all of the list values to Series objects.\n",
    "\n",
    "For this example, we'll specify a DataFrame, consisting of three individuals and their respective ages. The individuals in our DataFrame are Anna, May, and Rick. Their respective ages are 20, 21, and 22."
   ]
  },
  {
   "cell_type": "code",
   "execution_count": 50,
   "metadata": {},
   "outputs": [
    {
     "data": {
      "text/html": [
       "<div>\n",
       "<style scoped>\n",
       "    .dataframe tbody tr th:only-of-type {\n",
       "        vertical-align: middle;\n",
       "    }\n",
       "\n",
       "    .dataframe tbody tr th {\n",
       "        vertical-align: top;\n",
       "    }\n",
       "\n",
       "    .dataframe thead th {\n",
       "        text-align: right;\n",
       "    }\n",
       "</style>\n",
       "<table border=\"1\" class=\"dataframe\">\n",
       "  <thead>\n",
       "    <tr style=\"text-align: right;\">\n",
       "      <th></th>\n",
       "      <th>name</th>\n",
       "      <th>age</th>\n",
       "      <th>gender</th>\n",
       "    </tr>\n",
       "  </thead>\n",
       "  <tbody>\n",
       "    <tr>\n",
       "      <th>0</th>\n",
       "      <td>Anna</td>\n",
       "      <td>20</td>\n",
       "      <td>female</td>\n",
       "    </tr>\n",
       "    <tr>\n",
       "      <th>1</th>\n",
       "      <td>Rick</td>\n",
       "      <td>21</td>\n",
       "      <td>male</td>\n",
       "    </tr>\n",
       "    <tr>\n",
       "      <th>2</th>\n",
       "      <td>May</td>\n",
       "      <td>22</td>\n",
       "      <td>female</td>\n",
       "    </tr>\n",
       "  </tbody>\n",
       "</table>\n",
       "</div>"
      ],
      "text/plain": [
       "   name  age  gender\n",
       "0  Anna   20  female\n",
       "1  Rick   21    male\n",
       "2   May   22  female"
      ]
     },
     "execution_count": 50,
     "metadata": {},
     "output_type": "execute_result"
    }
   ],
   "source": [
    "df = pd.DataFrame({'name': ['Anna', 'Rick', 'May'], 'age': [20, 21, 22], 'gender': ['female', 'male', 'female']})\n",
    "df"
   ]
  },
  {
   "cell_type": "markdown",
   "metadata": {},
   "source": [
    "<hr />"
   ]
  },
  {
   "cell_type": "markdown",
   "metadata": {},
   "source": [
    "# Viewing Data <a class=\"anchor\" id=\"view\"></a>"
   ]
  },
  {
   "cell_type": "markdown",
   "metadata": {},
   "source": [
    "Now that we've created our own DataFrame, we'll discuss the essential methods called on a DataFrame. This is only a brief introduction, so I'll only list a few here. If you're interested to learn about a few more functions used for viewing data, please refer to [this introduction](https://pandas.pydata.org/docs/user_guide/basics.html) on the official Pandas website."
   ]
  },
  {
   "cell_type": "markdown",
   "metadata": {},
   "source": [
    "### Catching Glimpses of Data"
   ]
  },
  {
   "cell_type": "markdown",
   "metadata": {},
   "source": [
    "Here is how to view the top and bottom rows of the frame:"
   ]
  },
  {
   "cell_type": "code",
   "execution_count": 51,
   "metadata": {},
   "outputs": [
    {
     "data": {
      "text/html": [
       "<div>\n",
       "<style scoped>\n",
       "    .dataframe tbody tr th:only-of-type {\n",
       "        vertical-align: middle;\n",
       "    }\n",
       "\n",
       "    .dataframe tbody tr th {\n",
       "        vertical-align: top;\n",
       "    }\n",
       "\n",
       "    .dataframe thead th {\n",
       "        text-align: right;\n",
       "    }\n",
       "</style>\n",
       "<table border=\"1\" class=\"dataframe\">\n",
       "  <thead>\n",
       "    <tr style=\"text-align: right;\">\n",
       "      <th></th>\n",
       "      <th>name</th>\n",
       "      <th>age</th>\n",
       "      <th>gender</th>\n",
       "    </tr>\n",
       "  </thead>\n",
       "  <tbody>\n",
       "    <tr>\n",
       "      <th>0</th>\n",
       "      <td>Anna</td>\n",
       "      <td>20</td>\n",
       "      <td>female</td>\n",
       "    </tr>\n",
       "    <tr>\n",
       "      <th>1</th>\n",
       "      <td>Rick</td>\n",
       "      <td>21</td>\n",
       "      <td>male</td>\n",
       "    </tr>\n",
       "    <tr>\n",
       "      <th>2</th>\n",
       "      <td>May</td>\n",
       "      <td>22</td>\n",
       "      <td>female</td>\n",
       "    </tr>\n",
       "  </tbody>\n",
       "</table>\n",
       "</div>"
      ],
      "text/plain": [
       "   name  age  gender\n",
       "0  Anna   20  female\n",
       "1  Rick   21    male\n",
       "2   May   22  female"
      ]
     },
     "execution_count": 51,
     "metadata": {},
     "output_type": "execute_result"
    }
   ],
   "source": [
    "df.head()"
   ]
  },
  {
   "cell_type": "code",
   "execution_count": 52,
   "metadata": {},
   "outputs": [
    {
     "data": {
      "text/html": [
       "<div>\n",
       "<style scoped>\n",
       "    .dataframe tbody tr th:only-of-type {\n",
       "        vertical-align: middle;\n",
       "    }\n",
       "\n",
       "    .dataframe tbody tr th {\n",
       "        vertical-align: top;\n",
       "    }\n",
       "\n",
       "    .dataframe thead th {\n",
       "        text-align: right;\n",
       "    }\n",
       "</style>\n",
       "<table border=\"1\" class=\"dataframe\">\n",
       "  <thead>\n",
       "    <tr style=\"text-align: right;\">\n",
       "      <th></th>\n",
       "      <th>name</th>\n",
       "      <th>age</th>\n",
       "      <th>gender</th>\n",
       "    </tr>\n",
       "  </thead>\n",
       "  <tbody>\n",
       "    <tr>\n",
       "      <th>0</th>\n",
       "      <td>Anna</td>\n",
       "      <td>20</td>\n",
       "      <td>female</td>\n",
       "    </tr>\n",
       "    <tr>\n",
       "      <th>1</th>\n",
       "      <td>Rick</td>\n",
       "      <td>21</td>\n",
       "      <td>male</td>\n",
       "    </tr>\n",
       "    <tr>\n",
       "      <th>2</th>\n",
       "      <td>May</td>\n",
       "      <td>22</td>\n",
       "      <td>female</td>\n",
       "    </tr>\n",
       "  </tbody>\n",
       "</table>\n",
       "</div>"
      ],
      "text/plain": [
       "   name  age  gender\n",
       "0  Anna   20  female\n",
       "1  Rick   21    male\n",
       "2   May   22  female"
      ]
     },
     "execution_count": 52,
     "metadata": {},
     "output_type": "execute_result"
    }
   ],
   "source": [
    "df.tail(3)"
   ]
  },
  {
   "cell_type": "markdown",
   "metadata": {},
   "source": [
    "Notice, the default number of elements to display is five. So, if we don't specify any number within the parentheses, the number of rows will default to five. But, we can pass a custom number within these parentheses, as well. By doing this, it will only return the custom number of rows. For a more detailed explanation about this function and the parameters we can pass to this function, refer to the [function documentation](https://pandas.pydata.org/pandas-docs/stable/reference/api/pandas.DataFrame.head.html)."
   ]
  },
  {
   "cell_type": "markdown",
   "metadata": {},
   "source": [
    "### Describing Numerical Data"
   ]
  },
  {
   "cell_type": "markdown",
   "metadata": {},
   "source": [
    "Moving on, we can also describe the numerical columns in our data set. Specifically, calling the `describe` function will return a set of descriptive statistics about our numerical columns.\n",
    "\n",
    "These descriptive statistics include information about the central tendency, dispersion, and shape of the distribution of each numerical column. Specifically, it will return the following information:\n",
    "- `count:` The number of unique values in the column\n",
    "- `mean:` The average value in the column\n",
    "- `std:` The standard deviation of values in the column\n",
    "- `25%:` The 25th percentile.\n",
    "- `75%:` The 75th percentile.\n",
    "- `max:` The maximum value in the column."
   ]
  },
  {
   "cell_type": "code",
   "execution_count": 53,
   "metadata": {},
   "outputs": [
    {
     "data": {
      "text/html": [
       "<div>\n",
       "<style scoped>\n",
       "    .dataframe tbody tr th:only-of-type {\n",
       "        vertical-align: middle;\n",
       "    }\n",
       "\n",
       "    .dataframe tbody tr th {\n",
       "        vertical-align: top;\n",
       "    }\n",
       "\n",
       "    .dataframe thead th {\n",
       "        text-align: right;\n",
       "    }\n",
       "</style>\n",
       "<table border=\"1\" class=\"dataframe\">\n",
       "  <thead>\n",
       "    <tr style=\"text-align: right;\">\n",
       "      <th></th>\n",
       "      <th>age</th>\n",
       "    </tr>\n",
       "  </thead>\n",
       "  <tbody>\n",
       "    <tr>\n",
       "      <th>count</th>\n",
       "      <td>3.0</td>\n",
       "    </tr>\n",
       "    <tr>\n",
       "      <th>mean</th>\n",
       "      <td>21.0</td>\n",
       "    </tr>\n",
       "    <tr>\n",
       "      <th>std</th>\n",
       "      <td>1.0</td>\n",
       "    </tr>\n",
       "    <tr>\n",
       "      <th>min</th>\n",
       "      <td>20.0</td>\n",
       "    </tr>\n",
       "    <tr>\n",
       "      <th>25%</th>\n",
       "      <td>20.5</td>\n",
       "    </tr>\n",
       "    <tr>\n",
       "      <th>50%</th>\n",
       "      <td>21.0</td>\n",
       "    </tr>\n",
       "    <tr>\n",
       "      <th>75%</th>\n",
       "      <td>21.5</td>\n",
       "    </tr>\n",
       "    <tr>\n",
       "      <th>max</th>\n",
       "      <td>22.0</td>\n",
       "    </tr>\n",
       "  </tbody>\n",
       "</table>\n",
       "</div>"
      ],
      "text/plain": [
       "        age\n",
       "count   3.0\n",
       "mean   21.0\n",
       "std     1.0\n",
       "min    20.0\n",
       "25%    20.5\n",
       "50%    21.0\n",
       "75%    21.5\n",
       "max    22.0"
      ]
     },
     "execution_count": 53,
     "metadata": {},
     "output_type": "execute_result"
    }
   ],
   "source": [
    "df.describe()"
   ]
  },
  {
   "cell_type": "markdown",
   "metadata": {},
   "source": [
    "This function analyzes both numeric and object series, as well as DataFrame column sets of mixed data types. The output will vary depending on what is provided. Meaning, columns of Strings are usually not provided, since these aren't usable."
   ]
  },
  {
   "cell_type": "markdown",
   "metadata": {},
   "source": [
    "### Describing Numerical Data"
   ]
  },
  {
   "cell_type": "markdown",
   "metadata": {},
   "source": [
    "To use one final function as an example, we'll now sort the data set by a specific column. To do this, we'll call the `sort_values` function, which sorts the values along a given column."
   ]
  },
  {
   "cell_type": "code",
   "execution_count": 54,
   "metadata": {},
   "outputs": [
    {
     "data": {
      "text/html": [
       "<div>\n",
       "<style scoped>\n",
       "    .dataframe tbody tr th:only-of-type {\n",
       "        vertical-align: middle;\n",
       "    }\n",
       "\n",
       "    .dataframe tbody tr th {\n",
       "        vertical-align: top;\n",
       "    }\n",
       "\n",
       "    .dataframe thead th {\n",
       "        text-align: right;\n",
       "    }\n",
       "</style>\n",
       "<table border=\"1\" class=\"dataframe\">\n",
       "  <thead>\n",
       "    <tr style=\"text-align: right;\">\n",
       "      <th></th>\n",
       "      <th>name</th>\n",
       "      <th>age</th>\n",
       "      <th>gender</th>\n",
       "    </tr>\n",
       "  </thead>\n",
       "  <tbody>\n",
       "    <tr>\n",
       "      <th>0</th>\n",
       "      <td>Anna</td>\n",
       "      <td>20</td>\n",
       "      <td>female</td>\n",
       "    </tr>\n",
       "    <tr>\n",
       "      <th>2</th>\n",
       "      <td>May</td>\n",
       "      <td>22</td>\n",
       "      <td>female</td>\n",
       "    </tr>\n",
       "    <tr>\n",
       "      <th>1</th>\n",
       "      <td>Rick</td>\n",
       "      <td>21</td>\n",
       "      <td>male</td>\n",
       "    </tr>\n",
       "  </tbody>\n",
       "</table>\n",
       "</div>"
      ],
      "text/plain": [
       "   name  age  gender\n",
       "0  Anna   20  female\n",
       "2   May   22  female\n",
       "1  Rick   21    male"
      ]
     },
     "execution_count": 54,
     "metadata": {},
     "output_type": "execute_result"
    }
   ],
   "source": [
    "df.sort_values(by='name')"
   ]
  },
  {
   "cell_type": "markdown",
   "metadata": {},
   "source": [
    "<hr />"
   ]
  },
  {
   "cell_type": "markdown",
   "metadata": {},
   "source": [
    "# Selecting Data <a class=\"anchor\" id=\"select\"></a>"
   ]
  },
  {
   "cell_type": "markdown",
   "metadata": {},
   "source": [
    "In this section, we will focus on columns and subsets of data from a DataFrame. Namely, we'll focus on how to slice, dice, and generally get and set subsets of pandas objects. The primary focus will be on Series and DataFrame objects, as they have received more development attention in this area.\n",
    "\n",
    "For a DataFrame, we can use the bracket syntax `[]` for indexing and selecting data. Specifically, we'll need to specify a column name within our DataFrame `['col_name']` in order to select that particular column. Keep in mind, we can also select multiple columns by passing a list of column names into the brackets. For a more detailed explanation of indexing and selecting data, refer to [this introduction](https://pandas.pydata.org/docs/user_guide/indexing.html) on the official Pandas website."
   ]
  },
  {
   "cell_type": "markdown",
   "metadata": {},
   "source": [
    "### Selecting a Single Column"
   ]
  },
  {
   "cell_type": "markdown",
   "metadata": {},
   "source": [
    "For this example, we'll select the names of all of the tree individuals in our data set. For now, this selection will only include a single column, which yields a Series object:"
   ]
  },
  {
   "cell_type": "code",
   "execution_count": 55,
   "metadata": {},
   "outputs": [
    {
     "data": {
      "text/plain": [
       "0    Anna\n",
       "1    Rick\n",
       "2     May\n",
       "Name: name, dtype: object"
      ]
     },
     "execution_count": 55,
     "metadata": {},
     "output_type": "execute_result"
    }
   ],
   "source": [
    "df['name']"
   ]
  },
  {
   "cell_type": "markdown",
   "metadata": {},
   "source": [
    "### Selecting a Single Row"
   ]
  },
  {
   "cell_type": "markdown",
   "metadata": {},
   "source": [
    "For this example, we'll select a single row from the DataFrame using the `iloc` function. For now, selection will only include a single row, but just know we can select multiple rows at a time, and multiple columns at a time. Similar to selecting a single column, selecting a single row will yield a Series object."
   ]
  },
  {
   "cell_type": "code",
   "execution_count": 56,
   "metadata": {},
   "outputs": [
    {
     "data": {
      "text/plain": [
       "name         May\n",
       "age           22\n",
       "gender    female\n",
       "Name: 2, dtype: object"
      ]
     },
     "execution_count": 56,
     "metadata": {},
     "output_type": "execute_result"
    }
   ],
   "source": [
    "df.iloc[2]"
   ]
  },
  {
   "cell_type": "markdown",
   "metadata": {},
   "source": [
    "### Conditionally Selecting Rows"
   ]
  },
  {
   "cell_type": "markdown",
   "metadata": {},
   "source": [
    "In most cases, we'll want to filter certain rows on a given condition or rule. In Pandas terminology, this is called *boolean indexing*. To do this, we just need to insert a condition that returns boolean values for each row.\n",
    "\n",
    "Again, this is common operation used for boolean vectors to filter the data. Similar to SQL syntax, we can perform an *or* condition by using the `|` operator, and we can use the `&` operator to perform an *and* condition. Also, we can use the `~` operator for a *not* condition. Please refer to [this reference](https://pandas.pydata.org/docs/user_guide/indexing.html#boolean-indexing) for a more detailed explanation of boolean indexing and the possible set of operators used in boolean indexing. \n",
    "\n",
    "For this example, let's select the individuals who are at least 21 years old:"
   ]
  },
  {
   "cell_type": "code",
   "execution_count": 57,
   "metadata": {},
   "outputs": [
    {
     "data": {
      "text/html": [
       "<div>\n",
       "<style scoped>\n",
       "    .dataframe tbody tr th:only-of-type {\n",
       "        vertical-align: middle;\n",
       "    }\n",
       "\n",
       "    .dataframe tbody tr th {\n",
       "        vertical-align: top;\n",
       "    }\n",
       "\n",
       "    .dataframe thead th {\n",
       "        text-align: right;\n",
       "    }\n",
       "</style>\n",
       "<table border=\"1\" class=\"dataframe\">\n",
       "  <thead>\n",
       "    <tr style=\"text-align: right;\">\n",
       "      <th></th>\n",
       "      <th>name</th>\n",
       "      <th>age</th>\n",
       "      <th>gender</th>\n",
       "    </tr>\n",
       "  </thead>\n",
       "  <tbody>\n",
       "    <tr>\n",
       "      <th>0</th>\n",
       "      <td>Anna</td>\n",
       "      <td>20</td>\n",
       "      <td>female</td>\n",
       "    </tr>\n",
       "    <tr>\n",
       "      <th>1</th>\n",
       "      <td>Rick</td>\n",
       "      <td>21</td>\n",
       "      <td>male</td>\n",
       "    </tr>\n",
       "  </tbody>\n",
       "</table>\n",
       "</div>"
      ],
      "text/plain": [
       "   name  age  gender\n",
       "0  Anna   20  female\n",
       "1  Rick   21    male"
      ]
     },
     "execution_count": 57,
     "metadata": {},
     "output_type": "execute_result"
    }
   ],
   "source": [
    "df[df['age'] <= 21]"
   ]
  },
  {
   "cell_type": "markdown",
   "metadata": {},
   "source": [
    "### Setting Data Values"
   ]
  },
  {
   "cell_type": "markdown",
   "metadata": {},
   "source": [
    "Selecting columns and filtering rows is great, but sometimes we'll actually want to assign values to these filtered rows and selected columns. To do this, we'll use the `loc` function.\n",
    "\n",
    "We've already used the `iloc` function to filter on indivdual rows based on their index. Now, we can use the `loc` function to filter on certain rows based on a condition, while also selecting a particular column. For more information about other ways to assign data values to selected data, refer to [this section](https://pandas.pydata.org/docs/user_guide/10min.html#setting) on the official Pandas website.\n",
    "\n",
    "For this example, we'll filter on the individuals who are named Anna. Then, we'll change Anna's age from 20 to 21:"
   ]
  },
  {
   "cell_type": "code",
   "execution_count": 58,
   "metadata": {},
   "outputs": [
    {
     "data": {
      "text/html": [
       "<div>\n",
       "<style scoped>\n",
       "    .dataframe tbody tr th:only-of-type {\n",
       "        vertical-align: middle;\n",
       "    }\n",
       "\n",
       "    .dataframe tbody tr th {\n",
       "        vertical-align: top;\n",
       "    }\n",
       "\n",
       "    .dataframe thead th {\n",
       "        text-align: right;\n",
       "    }\n",
       "</style>\n",
       "<table border=\"1\" class=\"dataframe\">\n",
       "  <thead>\n",
       "    <tr style=\"text-align: right;\">\n",
       "      <th></th>\n",
       "      <th>name</th>\n",
       "      <th>age</th>\n",
       "      <th>gender</th>\n",
       "    </tr>\n",
       "  </thead>\n",
       "  <tbody>\n",
       "    <tr>\n",
       "      <th>0</th>\n",
       "      <td>Anna</td>\n",
       "      <td>21</td>\n",
       "      <td>female</td>\n",
       "    </tr>\n",
       "    <tr>\n",
       "      <th>1</th>\n",
       "      <td>Rick</td>\n",
       "      <td>21</td>\n",
       "      <td>male</td>\n",
       "    </tr>\n",
       "    <tr>\n",
       "      <th>2</th>\n",
       "      <td>May</td>\n",
       "      <td>22</td>\n",
       "      <td>female</td>\n",
       "    </tr>\n",
       "  </tbody>\n",
       "</table>\n",
       "</div>"
      ],
      "text/plain": [
       "   name  age  gender\n",
       "0  Anna   21  female\n",
       "1  Rick   21    male\n",
       "2   May   22  female"
      ]
     },
     "execution_count": 58,
     "metadata": {},
     "output_type": "execute_result"
    }
   ],
   "source": [
    "df.loc[df['name'] == 'Anna', 'age'] = 21\n",
    "df"
   ]
  },
  {
   "cell_type": "markdown",
   "metadata": {},
   "source": [
    "<hr />"
   ]
  },
  {
   "cell_type": "markdown",
   "metadata": {},
   "source": [
    "# Aggregations <a class=\"anchor\" id=\"aggregate\"></a>"
   ]
  },
  {
   "cell_type": "markdown",
   "metadata": {},
   "source": [
    "There are so hundreds of operations we can call on our individual DataFrame and its columns. We'll only walk through a few of these functions, such as statistical methods, custom methods, and many more! \n",
    "\n",
    "In particular, these methods include functions, like the following:\n",
    "- `mean():` Takes the average of all numerical columns in the data set\n",
    "- `apply():` Applies a custom function to the columns in a data set\n",
    "- `value_counts():` Computes the number of unique values in a data set\n",
    "\n",
    "Again, there are hundreds of other pandas functions, including functions for adding columns together, substituting values within a DataFrame, filling in missing values within a DataFrame, etc. For a more comprehensive list of aggregations and operations we can call on our DataFrame, refer to [this introduction](https://pandas.pydata.org/docs/user_guide/basics.html#basics-binop)."
   ]
  },
  {
   "cell_type": "markdown",
   "metadata": {},
   "source": [
    "### Averaging Numerical Data"
   ]
  },
  {
   "cell_type": "markdown",
   "metadata": {},
   "source": [
    "In this example, we'll perform an average of the numerical columns in the data set:"
   ]
  },
  {
   "cell_type": "code",
   "execution_count": 59,
   "metadata": {},
   "outputs": [
    {
     "data": {
      "text/plain": [
       "age    21.333333\n",
       "dtype: float64"
      ]
     },
     "execution_count": 59,
     "metadata": {},
     "output_type": "execute_result"
    }
   ],
   "source": [
    "df.mean()"
   ]
  },
  {
   "cell_type": "markdown",
   "metadata": {},
   "source": [
    "### Applying Custom Functions"
   ]
  },
  {
   "cell_type": "markdown",
   "metadata": {},
   "source": [
    "In this example, we'll perform a cumulative average of the columns in the data set. Notice, the cumulative average is applied to numerical and character columns. For this example, we used a custom function taken from the numpy package, called `cumsum`. However, we can use any custom function in place of this function, including our own custom functions we make ourselves."
   ]
  },
  {
   "cell_type": "code",
   "execution_count": 60,
   "metadata": {},
   "outputs": [
    {
     "data": {
      "text/html": [
       "<div>\n",
       "<style scoped>\n",
       "    .dataframe tbody tr th:only-of-type {\n",
       "        vertical-align: middle;\n",
       "    }\n",
       "\n",
       "    .dataframe tbody tr th {\n",
       "        vertical-align: top;\n",
       "    }\n",
       "\n",
       "    .dataframe thead th {\n",
       "        text-align: right;\n",
       "    }\n",
       "</style>\n",
       "<table border=\"1\" class=\"dataframe\">\n",
       "  <thead>\n",
       "    <tr style=\"text-align: right;\">\n",
       "      <th></th>\n",
       "      <th>name</th>\n",
       "      <th>age</th>\n",
       "      <th>gender</th>\n",
       "    </tr>\n",
       "  </thead>\n",
       "  <tbody>\n",
       "    <tr>\n",
       "      <th>0</th>\n",
       "      <td>Anna</td>\n",
       "      <td>21</td>\n",
       "      <td>female</td>\n",
       "    </tr>\n",
       "    <tr>\n",
       "      <th>1</th>\n",
       "      <td>AnnaRick</td>\n",
       "      <td>42</td>\n",
       "      <td>femalemale</td>\n",
       "    </tr>\n",
       "    <tr>\n",
       "      <th>2</th>\n",
       "      <td>AnnaRickMay</td>\n",
       "      <td>64</td>\n",
       "      <td>femalemalefemale</td>\n",
       "    </tr>\n",
       "  </tbody>\n",
       "</table>\n",
       "</div>"
      ],
      "text/plain": [
       "          name  age            gender\n",
       "0         Anna   21            female\n",
       "1     AnnaRick   42        femalemale\n",
       "2  AnnaRickMay   64  femalemalefemale"
      ]
     },
     "execution_count": 60,
     "metadata": {},
     "output_type": "execute_result"
    }
   ],
   "source": [
    "df.apply(np.cumsum)"
   ]
  },
  {
   "cell_type": "markdown",
   "metadata": {},
   "source": [
    "### Histogramming Numerical Data"
   ]
  },
  {
   "cell_type": "markdown",
   "metadata": {},
   "source": [
    "Often, we'll want to count some number of unique rows within our data. More specifically, we'll want to count some number of unique rows based on some column value, as well. To do this, we can call the `value_counts()` function on the entire DataFrame (or just a single/multiple set of columns).\n",
    "\n",
    "The `value_counts` function called on a specific column computes a histogram of a 1D array of values. It can also be used as a function on regular arrays, and it can be used to count combinations across multiple columns. For a more detailed explanation of histogramming and counting data within our DataFrame, please refer to [this introduction](https://pandas.pydata.org/docs/user_guide/basics.html#basics-discretization) on the Pandas website.\n",
    "\n",
    "In this example, we'll just count the unique ages of individuals in our data set. So, we'll only count the unique values of a single column, rather than count the unique rows of the entire DataFrame."
   ]
  },
  {
   "cell_type": "code",
   "execution_count": 61,
   "metadata": {},
   "outputs": [
    {
     "data": {
      "text/plain": [
       "21    2\n",
       "22    1\n",
       "Name: age, dtype: int64"
      ]
     },
     "execution_count": 61,
     "metadata": {},
     "output_type": "execute_result"
    }
   ],
   "source": [
    "df['age'].value_counts()"
   ]
  },
  {
   "cell_type": "markdown",
   "metadata": {},
   "source": [
    "<hr />"
   ]
  },
  {
   "cell_type": "markdown",
   "metadata": {},
   "source": [
    "# Merging Data <a class=\"anchor\" id=\"merge\"></a>"
   ]
  },
  {
   "cell_type": "markdown",
   "metadata": {},
   "source": [
    "Pandas provides various facilities for easily combining together Series or DataFrame objects with various kinds of set logic for the indexes and relational algebra functionality in the case of join and merge-type operations. In addition, pandas also provides utilities to compare two Series or DataFrame and summarize their differences.\n",
    "\n",
    "In Pandas, we can combine DataFrames together by concatenation or joining. Concatenation can be achieved using the `concat` function, which essentially stacks multiple DataFrames together. In SQL, this is similar to performing a union on multiple tables.\n",
    "\n",
    "For a more comprehensive list of merging and concatentation methods callable on our DataFrame, refer to [this section](https://pandas.pydata.org/docs/user_guide/merging.html#merging) on the official Pandas website."
   ]
  },
  {
   "cell_type": "markdown",
   "metadata": {},
   "source": [
    "### Concatenating Data Together"
   ]
  },
  {
   "cell_type": "markdown",
   "metadata": {},
   "source": [
    "The `concat` function does all of the heavy lifting of performing concatenation operations along an axis while performing optional set logic (union or intersection) of the indexes on the other axes. Meaning, we can perform conditional concatenation operations on multiple DataFrames based on a set of rows or a set of columns. For more information about concatenation DataFrames together, refer to [this section](https://pandas.pydata.org/docs/user_guide/merging.html#concatenating-objects) on the official Pandas website.\n",
    "\n",
    "For this example, we'll combine the following DataFrames:"
   ]
  },
  {
   "cell_type": "code",
   "execution_count": 62,
   "metadata": {},
   "outputs": [
    {
     "data": {
      "text/html": [
       "<div>\n",
       "<style scoped>\n",
       "    .dataframe tbody tr th:only-of-type {\n",
       "        vertical-align: middle;\n",
       "    }\n",
       "\n",
       "    .dataframe tbody tr th {\n",
       "        vertical-align: top;\n",
       "    }\n",
       "\n",
       "    .dataframe thead th {\n",
       "        text-align: right;\n",
       "    }\n",
       "</style>\n",
       "<table border=\"1\" class=\"dataframe\">\n",
       "  <thead>\n",
       "    <tr style=\"text-align: right;\">\n",
       "      <th></th>\n",
       "      <th>name</th>\n",
       "      <th>age</th>\n",
       "    </tr>\n",
       "  </thead>\n",
       "  <tbody>\n",
       "    <tr>\n",
       "      <th>0</th>\n",
       "      <td>Sue</td>\n",
       "      <td>12</td>\n",
       "    </tr>\n",
       "    <tr>\n",
       "      <th>1</th>\n",
       "      <td>Jan</td>\n",
       "      <td>28</td>\n",
       "    </tr>\n",
       "    <tr>\n",
       "      <th>2</th>\n",
       "      <td>Todd</td>\n",
       "      <td>8</td>\n",
       "    </tr>\n",
       "    <tr>\n",
       "      <th>0</th>\n",
       "      <td>Tanner</td>\n",
       "      <td>31</td>\n",
       "    </tr>\n",
       "    <tr>\n",
       "      <th>1</th>\n",
       "      <td>Sue</td>\n",
       "      <td>25</td>\n",
       "    </tr>\n",
       "  </tbody>\n",
       "</table>\n",
       "</div>"
      ],
      "text/plain": [
       "     name  age\n",
       "0     Sue   12\n",
       "1     Jan   28\n",
       "2    Todd    8\n",
       "0  Tanner   31\n",
       "1     Sue   25"
      ]
     },
     "execution_count": 62,
     "metadata": {},
     "output_type": "execute_result"
    }
   ],
   "source": [
    "df1 = pd.DataFrame({'name': ['Sue', 'Jan', 'Todd'], 'age': [12, 28, 8]})\n",
    "df2 = pd.DataFrame({'name': ['Tanner', 'Sue'], 'age': [31, 25]})\n",
    "pd.concat([df1, df2])"
   ]
  },
  {
   "cell_type": "markdown",
   "metadata": {},
   "source": [
    "### Joining Data Together"
   ]
  },
  {
   "cell_type": "markdown",
   "metadata": {},
   "source": [
    "The `merge` function performs a join operation, similar to SQL. So, similar to SQL, we can perform inner, left, right, outer, etc. joins on a set of DataFrames, given a set of parameters, like the column names for joining the tables together.\n",
    "\n",
    "Pandas has full-featured, high performance in-memory join operations idiomatically very similar to relational databases like SQL. These methods perform significantly better (in some cases well over an order of magnitude better) than other open source implementations. The reason for this is careful algorithmic design and the internal layout of the data in DataFrame. For more information about joining DataFrames together, refer to [this section](https://pandas.pydata.org/docs/user_guide/merging.html#merging-join) on the official Pandas website.\n",
    "\n",
    "In the following example, we'll just perform a simple inner join on the two DataFrames specified from the previous section:"
   ]
  },
  {
   "cell_type": "code",
   "execution_count": 63,
   "metadata": {},
   "outputs": [
    {
     "data": {
      "text/html": [
       "<div>\n",
       "<style scoped>\n",
       "    .dataframe tbody tr th:only-of-type {\n",
       "        vertical-align: middle;\n",
       "    }\n",
       "\n",
       "    .dataframe tbody tr th {\n",
       "        vertical-align: top;\n",
       "    }\n",
       "\n",
       "    .dataframe thead th {\n",
       "        text-align: right;\n",
       "    }\n",
       "</style>\n",
       "<table border=\"1\" class=\"dataframe\">\n",
       "  <thead>\n",
       "    <tr style=\"text-align: right;\">\n",
       "      <th></th>\n",
       "      <th>name</th>\n",
       "      <th>age_x</th>\n",
       "      <th>age_y</th>\n",
       "    </tr>\n",
       "  </thead>\n",
       "  <tbody>\n",
       "    <tr>\n",
       "      <th>0</th>\n",
       "      <td>Sue</td>\n",
       "      <td>12</td>\n",
       "      <td>25</td>\n",
       "    </tr>\n",
       "  </tbody>\n",
       "</table>\n",
       "</div>"
      ],
      "text/plain": [
       "  name  age_x  age_y\n",
       "0  Sue     12     25"
      ]
     },
     "execution_count": 63,
     "metadata": {},
     "output_type": "execute_result"
    }
   ],
   "source": [
    "pd.merge(df1, df2, how='inner', on='name')"
   ]
  },
  {
   "cell_type": "markdown",
   "metadata": {},
   "source": [
    "<hr />"
   ]
  },
  {
   "cell_type": "markdown",
   "metadata": {},
   "source": [
    "# Grouping Data <a class=\"anchor\" id=\"group\"></a>"
   ]
  },
  {
   "cell_type": "markdown",
   "metadata": {},
   "source": [
    "In Pandas, the `groupby` function performs a group-by function, similar to SQL. By *group-by* we are referring to a process involving one or more of the following steps:\n",
    "- **Splitting** the data into groups based on some criteria\n",
    "- **Applying** a function to each group independently\n",
    "- **Combining** the results into a data structure\n",
    "\n",
    "The split step is the most straightforward of the three methods. In fact, in many situations we may wish to split the data set into groups and do something with those groups. In the apply step, we might wish to do some type of aggregation, transformation, filtration, or a combination of these methods.\n",
    "\n",
    "At a high-level, we can think of aggregation as a type of method that computes a summary statistic for each group (e.g. mean, counts, etc.). We can think of transformation as a type of method that performs some group-specific computations (e.g. filling NAs for missing values). Lastly, we can think of filtration as a type of method that discards some groups (e.g. filtering out data based on the group's mean). For a more comprehensive list of methods and operations callable on our DataFrame, refer to [this section](https://pandas.pydata.org/docs/user_guide/groupby.html#groupby) on the official Pandas website.\n",
    "\n",
    "In the following two examples, we'll combine the individuals into groups based on their ages. In the first example, we'll count the number of distinct ages in the data set. In the second example, we'll select the first name in our dataset after grouping the individuals by their age."
   ]
  },
  {
   "cell_type": "code",
   "execution_count": 64,
   "metadata": {},
   "outputs": [
    {
     "data": {
      "text/html": [
       "<div>\n",
       "<style scoped>\n",
       "    .dataframe tbody tr th:only-of-type {\n",
       "        vertical-align: middle;\n",
       "    }\n",
       "\n",
       "    .dataframe tbody tr th {\n",
       "        vertical-align: top;\n",
       "    }\n",
       "\n",
       "    .dataframe thead th {\n",
       "        text-align: right;\n",
       "    }\n",
       "</style>\n",
       "<table border=\"1\" class=\"dataframe\">\n",
       "  <thead>\n",
       "    <tr style=\"text-align: right;\">\n",
       "      <th></th>\n",
       "      <th>name</th>\n",
       "      <th>gender</th>\n",
       "    </tr>\n",
       "    <tr>\n",
       "      <th>age</th>\n",
       "      <th></th>\n",
       "      <th></th>\n",
       "    </tr>\n",
       "  </thead>\n",
       "  <tbody>\n",
       "    <tr>\n",
       "      <th>21</th>\n",
       "      <td>2</td>\n",
       "      <td>2</td>\n",
       "    </tr>\n",
       "    <tr>\n",
       "      <th>22</th>\n",
       "      <td>1</td>\n",
       "      <td>1</td>\n",
       "    </tr>\n",
       "  </tbody>\n",
       "</table>\n",
       "</div>"
      ],
      "text/plain": [
       "     name  gender\n",
       "age              \n",
       "21      2       2\n",
       "22      1       1"
      ]
     },
     "execution_count": 64,
     "metadata": {},
     "output_type": "execute_result"
    }
   ],
   "source": [
    "df.groupby('age').count()"
   ]
  },
  {
   "cell_type": "code",
   "execution_count": 65,
   "metadata": {},
   "outputs": [
    {
     "data": {
      "text/plain": [
       "age\n",
       "21    Anna\n",
       "22     May\n",
       "Name: name, dtype: object"
      ]
     },
     "execution_count": 65,
     "metadata": {},
     "output_type": "execute_result"
    }
   ],
   "source": [
    "df.groupby('age')['name'].first()"
   ]
  },
  {
   "cell_type": "markdown",
   "metadata": {},
   "source": [
    "<hr />"
   ]
  },
  {
   "cell_type": "markdown",
   "metadata": {},
   "source": [
    "# Reshaping Data <a class=\"anchor\" id=\"reshape\"></a>"
   ]
  },
  {
   "cell_type": "markdown",
   "metadata": {},
   "source": [
    "There are a few, more advanced methods used for reshaping our data set. This can be useful to transform data from one structure into another structure. For a more comprehensive list of advanced reshaping methods and operations callable on our DataFrame, refer to [this cheatsheet](https://pandas.pydata.org/docs/user_guide/reshaping.html#reshaping-stacking) on the official Pandas website."
   ]
  },
  {
   "cell_type": "markdown",
   "metadata": {},
   "source": [
    "### Pivot Tables"
   ]
  },
  {
   "cell_type": "markdown",
   "metadata": {},
   "source": [
    "The `pivot` function is used for creating spreadsheet-style pivot tables. While the pivot function provides general purpose pivoting with various data types (strings, numerics, etc.), Pandas also provides the `pivot_table` function for pivoting with aggregation of numeric data. For a more detailed explanation of pivot tables, refer to [this section](https://pandas.pydata.org/docs/user_guide/reshaping.html#reshaping-pivot) on the official Pandas website.\n",
    "\n",
    "In this example, we'll pivot the **age** values within our DataFrame, so the rows are indexed by the **age** column, and the new columns refer to the **name** column."
   ]
  },
  {
   "cell_type": "code",
   "execution_count": 66,
   "metadata": {},
   "outputs": [
    {
     "data": {
      "text/html": [
       "<div>\n",
       "<style scoped>\n",
       "    .dataframe tbody tr th:only-of-type {\n",
       "        vertical-align: middle;\n",
       "    }\n",
       "\n",
       "    .dataframe tbody tr th {\n",
       "        vertical-align: top;\n",
       "    }\n",
       "\n",
       "    .dataframe thead th {\n",
       "        text-align: right;\n",
       "    }\n",
       "</style>\n",
       "<table border=\"1\" class=\"dataframe\">\n",
       "  <thead>\n",
       "    <tr style=\"text-align: right;\">\n",
       "      <th>name</th>\n",
       "      <th>Anna</th>\n",
       "      <th>May</th>\n",
       "      <th>Rick</th>\n",
       "    </tr>\n",
       "    <tr>\n",
       "      <th>gender</th>\n",
       "      <th></th>\n",
       "      <th></th>\n",
       "      <th></th>\n",
       "    </tr>\n",
       "  </thead>\n",
       "  <tbody>\n",
       "    <tr>\n",
       "      <th>female</th>\n",
       "      <td>21.0</td>\n",
       "      <td>22.0</td>\n",
       "      <td>NaN</td>\n",
       "    </tr>\n",
       "    <tr>\n",
       "      <th>male</th>\n",
       "      <td>NaN</td>\n",
       "      <td>NaN</td>\n",
       "      <td>21.0</td>\n",
       "    </tr>\n",
       "  </tbody>\n",
       "</table>\n",
       "</div>"
      ],
      "text/plain": [
       "name    Anna   May  Rick\n",
       "gender                  \n",
       "female  21.0  22.0   NaN\n",
       "male     NaN   NaN  21.0"
      ]
     },
     "execution_count": 66,
     "metadata": {},
     "output_type": "execute_result"
    }
   ],
   "source": [
    "df.pivot(index='gender', columns='name', values='age')"
   ]
  },
  {
   "cell_type": "markdown",
   "metadata": {},
   "source": [
    "### Stacking Data"
   ]
  },
  {
   "cell_type": "markdown",
   "metadata": {},
   "source": [
    "Closely related to the `pivot` method are the `stack` and `unstack` methods, which are available on Series and DataFrame objects. These methods are designed to work together, and they can be indexed on multiple columns from our original data set.\n",
    "\n",
    "Essentially, the `stack` method pivots a level of the column labels, and it returrns a DataFrame with an index with a new inner-most level of row labels. For a more detailed explanation of stacking, please refer to [this section](https://pandas.pydata.org/docs/user_guide/reshaping.html#reshaping-stacking) on the official Pandas website.\n",
    "\n",
    "In the following example, we'll stack the entire DataFrame. This function is more useful to *de-pivot* an already pivoted DataFrame, whether it be a transformed DataFrame or a DataFrame loaded from a raw SQL table."
   ]
  },
  {
   "cell_type": "code",
   "execution_count": 67,
   "metadata": {},
   "outputs": [
    {
     "data": {
      "text/plain": [
       "0  name        Anna\n",
       "   age           21\n",
       "   gender    female\n",
       "1  name        Rick\n",
       "   age           21\n",
       "   gender      male\n",
       "2  name         May\n",
       "   age           22\n",
       "   gender    female\n",
       "dtype: object"
      ]
     },
     "execution_count": 67,
     "metadata": {},
     "output_type": "execute_result"
    }
   ],
   "source": [
    "df.stack()"
   ]
  },
  {
   "cell_type": "markdown",
   "metadata": {},
   "source": [
    "<hr />"
   ]
  },
  {
   "cell_type": "markdown",
   "metadata": {},
   "source": [
    "# Additional Resources <a class=\"anchor\" id=\"references\"></a>"
   ]
  },
  {
   "cell_type": "markdown",
   "metadata": {},
   "source": [
    "- [Comprehensive Pandas Tutorial for Beginners](https://www.learndatasci.com/tutorials/python-pandas-tutorial-complete-introduction-for-beginners/)\n",
    "- [Basic Pandas Tutorial for Beginners](https://pandas.pydata.org/docs/user_guide/10min.html)\n",
    "- [Comprehensive User Guide for Intermediates](https://pandas.pydata.org/docs/user_guide/index.html)\n",
    "- [Pandas Cookbook for Intermediates](https://pandas.pydata.org/pandas-docs/stable/getting_started/tutorials.html)\n",
    "- [Basic Pandas Tutorial for Experts](https://pandas.pydata.org/docs/user_guide/cookbook.html)\n",
    "- [Paid Course for Pandas Learners](https://www.dataquest.io/m/291-introduction-to-pandas/)"
   ]
  }
 ],
 "metadata": {
  "kernelspec": {
   "display_name": "Python 3",
   "language": "python",
   "name": "python3"
  },
  "language_info": {
   "codemirror_mode": {
    "name": "ipython",
    "version": 3
   },
   "file_extension": ".py",
   "mimetype": "text/x-python",
   "name": "python",
   "nbconvert_exporter": "python",
   "pygments_lexer": "ipython3",
   "version": "3.7.9"
  }
 },
 "nbformat": 4,
 "nbformat_minor": 4
}
