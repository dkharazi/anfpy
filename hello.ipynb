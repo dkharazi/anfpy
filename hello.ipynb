{
 "cells": [
  {
   "cell_type": "markdown",
   "metadata": {},
   "source": [
    "# Hello World"
   ]
  },
  {
   "cell_type": "markdown",
   "metadata": {},
   "source": [
    "Lorem ipsum dolor sit amet, consectetur adipiscing elit. Maecenas molestie dui efficitur dui tincidunt, a luctus justo pellentesque. Nulla tincidunt quam at est ultricies, eget aliquam nunc pharetra. Vivamus eget venenatis ligula. Quisque suscipit, lorem a scelerisque egestas, odio leo interdum nulla, in dapibus sapien tortor quis metus. Phasellus congue, ligula quis gravida sodales, nisl odio hendrerit dolor, consectetur elementum nulla velit eget arcu. Duis fringilla lacinia lacinia. Pellentesque tempus leo sed dictum euismod. Nulla quis condimentum magna. Sed sed leo sit amet odio finibus scelerisque."
   ]
  },
  {
   "cell_type": "code",
   "execution_count": 1,
   "metadata": {},
   "outputs": [
    {
     "name": "stdout",
     "output_type": "stream",
     "text": [
      "4\n"
     ]
    }
   ],
   "source": [
    "print(2+2)"
   ]
  }
 ],
 "metadata": {
  "kernelspec": {
   "display_name": "Python 3",
   "language": "python",
   "name": "python3"
  },
  "language_info": {
   "codemirror_mode": {
    "name": "ipython",
    "version": 3
   },
   "file_extension": ".py",
   "mimetype": "text/x-python",
   "name": "python",
   "nbconvert_exporter": "python",
   "pygments_lexer": "ipython3",
   "version": "3.7.9"
  }
 },
 "nbformat": 4,
 "nbformat_minor": 2
}
